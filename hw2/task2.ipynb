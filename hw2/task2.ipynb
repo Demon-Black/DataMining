{
 "cells": [
  {
   "cell_type": "code",
   "execution_count": 1,
   "metadata": {},
   "outputs": [
    {
     "name": "stdout",
     "output_type": "stream",
     "text": [
      "['computer', 'computing', 'software', 'microcomputer', 'workstation', 'hardware', 'realtime', 'coprocessor', 'desktop', 'macintosh', 'laptop', 'calculator', 'interface', 'programmer', 'vlsi', 'technology', 'digitizer', 'multimedia', 'timesharing', 'programmable', 'china', 'america', 'europe', 'asia', 'africa', 'worldwide', 'mexico', 'midwest', 'atlantic', 'canada', 'brazil', 'japan', 'colombia', 'britain', 'spain', 'russia', 'switzerland', 'netherlands', 'france', 'italy', 'sunny', 'cool', 'foggy', 'muggy', 'windy', 'warm', 'cloudy', 'snowing', 'rainstorm', 'rainy', 'cloudless', 'sunshine', 'sandy', 'sultry', 'frosty', 'humid', 'stormy', 'dry', 'temperate', 'wet', 'data', 'home', 'install', 'dog', 'cat', 'banana', 'work', 'runner', 'jump', 'beautiful', 'chat', 'email', 'chair', 'book', 'compelling', 'convincing', 'hundred', 'very', 'plane', 'grass', 'encode', 'network', 'football', 'man', 'facebook', 'window', 'tiger', 'music', 'philosophy', 'psychology', 'money', 'paper', 'student', 'clock', 'hash', 'string', 'frequent', 'god', 'monkey', 'good']\n"
     ]
    }
   ],
   "source": [
    "import numpy as np\n",
    "\n",
    "words = []\n",
    "with open('E:/Working/DataMining/homework/hw2/100_word_vector.txt' ,'r') as f:\n",
    "    with open('E:/Working/DataMining/homework/hw2/word_vector.txt', 'w') as g:\n",
    "        for line in f.readlines():\n",
    "            vector = line.split()\n",
    "            words.append(vector[0])\n",
    "            g.write(' '.join(vector[1:]) + '\\n')\n",
    "print(words)"
   ]
  },
  {
   "cell_type": "code",
   "execution_count": 2,
   "metadata": {},
   "outputs": [
    {
     "name": "stdout",
     "output_type": "stream",
     "text": [
      "(100, 100)\n",
      "(100, 2)\n",
      "[[  6.23877188e-01  -6.96857562e-02]\n",
      " [  5.36768989e-01  -6.64966581e-02]\n",
      " [  6.00714653e-01  -8.08710722e-02]\n",
      " [  5.87977728e-01  -7.86684811e-02]\n",
      " [  5.67631209e-01  -1.56266045e-01]\n",
      " [  5.76478822e-01  -1.13195855e-01]\n",
      " [  4.52685258e-01  -1.96960223e-01]\n",
      " [  5.85436824e-01  -1.21883372e-01]\n",
      " [  5.10480122e-01  -1.50993276e-01]\n",
      " [  4.99748753e-01  -1.25913124e-01]\n",
      " [  4.68628494e-01  -1.11136616e-01]\n",
      " [  5.27294927e-01  -1.36003369e-01]\n",
      " [  5.49608719e-01  -1.78809128e-01]\n",
      " [  5.21519933e-01  -2.00220613e-01]\n",
      " [  5.63138233e-01  -1.57516380e-02]\n",
      " [  4.14766883e-01   6.49851874e-02]\n",
      " [  5.04438542e-01  -1.32038682e-01]\n",
      " [  4.83297248e-01  -2.79964245e-03]\n",
      " [  5.02459174e-01  -1.26404774e-01]\n",
      " [  5.60204456e-01  -1.95214316e-01]\n",
      " [ -1.51366983e-01   4.60257298e-01]\n",
      " [ -2.02138210e-01   5.20672480e-01]\n",
      " [ -1.68273287e-01   5.89226414e-01]\n",
      " [ -1.82858941e-01   5.10006271e-01]\n",
      " [ -2.75142935e-01   4.78348239e-01]\n",
      " [  5.66969488e-02   4.17850951e-01]\n",
      " [ -2.23285785e-01   4.53162712e-01]\n",
      " [ -1.84434787e-01   1.99827863e-01]\n",
      " [ -2.61749947e-01   2.09697719e-01]\n",
      " [ -1.12685553e-01   4.70992817e-01]\n",
      " [ -2.02405194e-01   5.08734758e-01]\n",
      " [ -1.47776097e-01   4.52169365e-01]\n",
      " [ -1.63854083e-01   4.95225917e-01]\n",
      " [ -1.93450835e-01   5.54423584e-01]\n",
      " [ -1.90164624e-01   5.08609780e-01]\n",
      " [ -1.54236883e-01   5.65422589e-01]\n",
      " [ -1.69103766e-01   4.49405254e-01]\n",
      " [ -1.29417806e-01   5.62571322e-01]\n",
      " [ -1.76416098e-01   5.47921077e-01]\n",
      " [ -1.99099510e-01   5.23573102e-01]\n",
      " [ -4.18965288e-01  -4.24922899e-01]\n",
      " [ -3.99488815e-01  -3.79604494e-01]\n",
      " [ -4.51985490e-01  -3.91000599e-01]\n",
      " [ -4.35274242e-01  -3.50659241e-01]\n",
      " [ -4.80178103e-01  -4.25659254e-01]\n",
      " [ -5.06511328e-01  -2.73440130e-01]\n",
      " [ -4.46500381e-01  -3.95550134e-01]\n",
      " [ -3.88130233e-01  -3.71666513e-01]\n",
      " [ -3.96776869e-01  -3.62257838e-01]\n",
      " [ -4.85191920e-01  -3.48376638e-01]\n",
      " [ -4.11234649e-01  -2.88297636e-01]\n",
      " [ -3.08562280e-01  -2.24503067e-01]\n",
      " [ -3.50184925e-01  -3.08878476e-01]\n",
      " [ -3.49756528e-01  -3.30216471e-01]\n",
      " [ -3.61457185e-01  -2.64213562e-01]\n",
      " [ -4.46459068e-01  -2.39838679e-01]\n",
      " [ -4.88450575e-01  -2.81794384e-01]\n",
      " [ -3.90762979e-01  -3.69582054e-01]\n",
      " [ -4.15739529e-01  -9.02333273e-02]\n",
      " [ -3.97905395e-01  -3.47968608e-01]\n",
      " [  4.86286212e-01  -1.83012258e-02]\n",
      " [ -1.39363277e-01   5.09506741e-02]\n",
      " [  2.41490783e-01  -4.17901771e-02]\n",
      " [ -2.18449045e-01  -8.80112263e-02]\n",
      " [ -1.36210306e-01  -9.84698082e-02]\n",
      " [ -1.46671264e-01  -5.56820772e-02]\n",
      " [  7.97095584e-02   1.74226706e-01]\n",
      " [ -1.07412268e-01   1.10464669e-02]\n",
      " [ -3.58036526e-02  -1.49881479e-01]\n",
      " [ -3.15656628e-01  -2.36351436e-01]\n",
      " [  1.27886738e-01  -1.84281421e-01]\n",
      " [  3.75428158e-01  -6.02567718e-02]\n",
      " [  6.68510796e-02   7.85511434e-02]\n",
      " [  7.07330540e-02   1.29586287e-01]\n",
      " [  4.46286579e-03  -3.47107859e-02]\n",
      " [ -7.52065864e-02   2.83516852e-02]\n",
      " [ -5.21646281e-02   1.80119817e-01]\n",
      " [ -2.10126118e-01  -1.50323861e-01]\n",
      " [ -6.35604214e-02  -2.30263154e-02]\n",
      " [ -2.75318243e-01  -1.79962188e-01]\n",
      " [  3.91680050e-01  -1.50395037e-01]\n",
      " [  2.47781654e-01   9.83384943e-02]\n",
      " [ -7.75474169e-02   1.29615906e-02]\n",
      " [ -2.64756319e-01  -4.91457998e-02]\n",
      " [  3.38235235e-01  -2.12391711e-02]\n",
      " [  2.67787597e-01  -1.43593502e-01]\n",
      " [ -1.69894229e-01   2.18396788e-02]\n",
      " [  8.60151042e-02   2.61994634e-02]\n",
      " [  1.19706164e-01   1.68662248e-01]\n",
      " [  2.08395878e-01   1.02275144e-01]\n",
      " [  3.52481861e-03   1.49673493e-01]\n",
      " [  1.40354563e-01   4.13019408e-02]\n",
      " [  1.61185306e-01   8.83194761e-02]\n",
      " [  1.65518653e-01  -1.43794430e-01]\n",
      " [  3.08841702e-01  -2.10111664e-01]\n",
      " [  1.46190261e-01   1.12476416e-02]\n",
      " [ -2.05068619e-01  -8.75744325e-02]\n",
      " [ -8.60033740e-02  -1.41653457e-03]\n",
      " [ -1.18632519e-01   3.44460729e-04]\n",
      " [ -2.16696517e-01  -6.07851210e-02]]\n"
     ]
    }
   ],
   "source": [
    "vectors = np.loadtxt('E:/Working/DataMining/homework/hw2/word_vector.txt')\n",
    "print(vectors.shape)\n",
    "import matplotlib.pyplot as plt\n",
    "from sklearn.decomposition import PCA\n",
    "\n",
    "pca = PCA(n_components=2)\n",
    "model = pca.fit(vectors)\n",
    "X = model.transform(vectors)\n",
    "print(X.shape)\n",
    "print(X)"
   ]
  },
  {
   "cell_type": "code",
   "execution_count": 3,
   "metadata": {},
   "outputs": [
    {
     "data": {
      "image/png": "[encoded data removed]",
      "text/plain": [
       "<matplotlib.figure.Figure at 0x53299e8>"
      ]
     },
     "metadata": {},
     "output_type": "display_data"
    }
   ],
   "source": [
    "plt.scatter(X[:, 0], X[:, 1])\n",
    "plt.show()"
   ]
  },
  {
   "cell_type": "code",
   "execution_count": 4,
   "metadata": {},
   "outputs": [
    {
     "name": "stdout",
     "output_type": "stream",
     "text": [
      "(100, 2)\n",
      "[[  1.29884505e+00   7.93027925e+00]\n",
      " [  1.51220465e+00   7.28730011e+00]\n",
      " [  6.77040279e-01   7.97620726e+00]\n",
      " [  1.79031706e+00   8.61878109e+00]\n",
      " [  9.66372430e-01   9.04466724e+00]\n",
      " [  1.21904874e+00   8.98369980e+00]\n",
      " [  6.34016871e-01   7.52537966e+00]\n",
      " [  2.30375481e+00   8.69880962e+00]\n",
      " [  4.09980953e-01   9.07672024e+00]\n",
      " [  5.88288128e-01   9.36440563e+00]\n",
      " [ -1.84597775e-01   9.07416344e+00]\n",
      " [  2.34808850e+00   9.34378910e+00]\n",
      " [  7.39309847e-01   8.41684628e+00]\n",
      " [  2.87206829e-01   8.04361343e+00]\n",
      " [  2.21149015e+00   8.00899315e+00]\n",
      " [  1.19831884e+00   6.54835415e+00]\n",
      " [  1.61858237e+00   9.71995544e+00]\n",
      " [  2.37250507e-01   6.88835049e+00]\n",
      " [  1.43627286e+00   8.47075367e+00]\n",
      " [  2.38220501e+00   9.37782860e+00]\n",
      " [ -5.56981850e+00   4.54193544e+00]\n",
      " [ -5.26455736e+00   3.05636954e+00]\n",
      " [ -5.89894629e+00   3.41541696e+00]\n",
      " [ -5.36941767e+00   3.86604166e+00]\n",
      " [ -5.63029718e+00   3.40405798e+00]\n",
      " [ -4.47335196e+00   3.61205673e+00]\n",
      " [ -7.23769999e+00   4.81856298e+00]\n",
      " [ -4.75975800e+00   2.35575676e+00]\n",
      " [ -5.11487150e+00   1.98459637e+00]\n",
      " [ -5.95187616e+00   2.47586131e+00]\n",
      " [ -6.94553089e+00   4.60355091e+00]\n",
      " [ -5.42827940e+00   4.59367800e+00]\n",
      " [ -7.32354403e+00   4.80990553e+00]\n",
      " [ -6.44037056e+00   3.00352335e+00]\n",
      " [ -7.49767017e+00   3.94497108e+00]\n",
      " [ -6.33687496e+00   4.11112261e+00]\n",
      " [ -7.59605742e+00   2.86739397e+00]\n",
      " [ -7.44657803e+00   3.29913163e+00]\n",
      " [ -7.07018137e+00   3.13516021e+00]\n",
      " [ -7.20004654e+00   3.32270050e+00]\n",
      " [ -2.65389943e+00  -2.28734875e+00]\n",
      " [ -2.48583055e+00  -2.68203187e+00]\n",
      " [ -3.97121239e+00  -2.79639554e+00]\n",
      " [ -3.18816400e+00  -3.14105916e+00]\n",
      " [ -3.22495651e+00  -2.93685365e+00]\n",
      " [ -2.48615766e+00  -3.00496125e+00]\n",
      " [ -3.45695972e+00  -2.38338566e+00]\n",
      " [ -3.88905382e+00  -3.30011034e+00]\n",
      " [ -3.90405297e+00  -3.72058702e+00]\n",
      " [ -3.29497766e+00  -3.86927223e+00]\n",
      " [ -3.49943495e+00  -2.24175835e+00]\n",
      " [ -2.57600760e+00  -1.68526113e+00]\n",
      " [ -1.41862249e+00  -2.68623471e+00]\n",
      " [ -1.74846208e+00  -1.36105478e+00]\n",
      " [ -3.38275623e+00  -1.55638170e+00]\n",
      " [ -2.63611269e+00  -4.27132130e+00]\n",
      " [ -4.42994261e+00  -2.44939208e+00]\n",
      " [ -2.05069399e+00  -3.82036614e+00]\n",
      " [ -2.50067759e+00  -4.46435452e+00]\n",
      " [ -1.91917479e+00  -3.73208141e+00]\n",
      " [  2.19544363e+00   7.13646221e+00]\n",
      " [ -1.43045998e+00   8.88853669e-01]\n",
      " [  2.66497433e-01   1.06565676e+01]\n",
      " [  9.53000963e-01  -1.41081929e+00]\n",
      " [  1.12746966e+00  -1.38672507e+00]\n",
      " [  9.48768184e-02  -2.94016051e+00]\n",
      " [ -1.75986305e-01   3.41474938e+00]\n",
      " [ -2.75611305e+00   9.47427511e-01]\n",
      " [ -2.89115977e+00   7.82934546e-01]\n",
      " [ -1.27588570e+00  -9.70583439e-01]\n",
      " [ -1.74338818e+00   7.58571768e+00]\n",
      " [ -1.49306858e+00   7.88148975e+00]\n",
      " [  1.56586659e+00   3.37799454e+00]\n",
      " [ -1.55688301e-01   3.24150348e+00]\n",
      " [  1.10313046e+00   1.36650264e+00]\n",
      " [  1.06624973e+00   1.27676368e+00]\n",
      " [ -1.59053850e+00   3.04096198e+00]\n",
      " [ -1.06356645e+00  -5.05218387e-01]\n",
      " [  2.17786968e-01  -4.44725561e+00]\n",
      " [ -8.32722902e-01  -3.38276935e+00]\n",
      " [  3.33468342e+00   7.37442541e+00]\n",
      " [ -6.18005276e-01   6.81711006e+00]\n",
      " [ -2.26495099e+00   1.24391043e+00]\n",
      " [  2.04676092e-01   4.36480576e-03]\n",
      " [ -1.57036638e+00   7.96600819e+00]\n",
      " [ -1.42584264e-01   9.97915173e+00]\n",
      " [  1.51840508e+00  -1.01293206e+00]\n",
      " [ -1.94568053e-01   5.01600218e+00]\n",
      " [  1.69302583e+00   4.05032682e+00]\n",
      " [  1.74623370e+00   4.14516640e+00]\n",
      " [ -5.87292075e-01   1.29928327e+00]\n",
      " [  1.02696240e-01   3.26845860e+00]\n",
      " [  1.33014476e+00   4.65717888e+00]\n",
      " [  3.11084223e+00   9.87279510e+00]\n",
      " [  3.03546309e+00   6.73023987e+00]\n",
      " [ -2.75631070e-01   5.18591261e+00]\n",
      " [ -5.18385029e+00  -1.77721107e+00]\n",
      " [  3.95204037e-01   2.32186660e-01]\n",
      " [  1.21842134e+00  -1.49814558e+00]\n",
      " [ -8.01317155e-01   3.21580730e-02]]\n"
     ]
    }
   ],
   "source": [
    "from sklearn.manifold import TSNE\n",
    "Y = TSNE(n_components=2).fit_transform(vectors)\n",
    "print(Y.shape)\n",
    "print(Y)"
   ]
  },
  {
   "cell_type": "code",
   "execution_count": 5,
   "metadata": {},
   "outputs": [
    {
     "data": {
      "image/png": "[encoded data removed]",
      "text/plain": [
       "<matplotlib.figure.Figure at 0x9703278>"
      ]
     },
     "metadata": {},
     "output_type": "display_data"
    }
   ],
   "source": [
    "plt.scatter(Y[:, 0], Y[:, 1])\n",
    "plt.show()"
   ]
  },
  {
   "cell_type": "code",
   "execution_count": 6,
   "metadata": {},
   "outputs": [
    {
     "data": {
      "image/png": "[encoded data removed]",
      "text/plain": [
       "<matplotlib.figure.Figure at 0x53297b8>"
      ]
     },
     "metadata": {},
     "output_type": "display_data"
    }
   ],
   "source": [
    "Y = TSNE(n_components=2,perplexity=20.0,early_exaggeration=12.0,learning_rate=10.0,n_iter=1000,n_iter_without_progress=300,\\\n",
    "     min_grad_norm=1e-07,metric='euclidean', init='random', verbose=0, random_state=None,method='barnes_hut', angle=0.5).fit_transform(vectors)\n",
    "plt.scatter(Y[:, 0], Y[:, 1])\n",
    "plt.show()"
   ]
  },
  {
   "cell_type": "code",
   "execution_count": 7,
   "metadata": {},
   "outputs": [
    {
     "data": {
      "image/png": "[encoded data removed]",
      "text/plain": [
       "<matplotlib.figure.Figure at 0xb534c88>"
      ]
     },
     "metadata": {},
     "output_type": "display_data"
    }
   ],
   "source": [
    "Y = TSNE(n_components=2,perplexity=15.0,early_exaggeration=12.0,learning_rate=100.0,n_iter=1000,n_iter_without_progress=300,\\\n",
    "     min_grad_norm=1e-07,metric='euclidean', init='random', verbose=0, random_state=None,method='barnes_hut', angle=0.5).fit_transform(vectors)\n",
    "plt.scatter(Y[:, 0], Y[:, 1])\n",
    "plt.show()"
   ]
  },
  {
   "cell_type": "code",
   "execution_count": 8,
   "metadata": {},
   "outputs": [
    {
     "data": {
      "image/png": "[encoded data removed]",
      "text/plain": [
       "<matplotlib.figure.Figure at 0xb5f2240>"
      ]
     },
     "metadata": {},
     "output_type": "display_data"
    }
   ],
   "source": [
    "Y = TSNE(n_components=2,perplexity=15.0,early_exaggeration=12.0,learning_rate=10.0,n_iter=1000,n_iter_without_progress=300,\\\n",
    "     min_grad_norm=1e-07,metric='euclidean', init='random', verbose=0, random_state=None,method='barnes_hut', angle=0.5).fit_transform(vectors)\n",
    "plt.scatter(Y[:, 0], Y[:, 1])\n",
    "plt.show()"
   ]
  },
  {
   "cell_type": "code",
   "execution_count": 9,
   "metadata": {},
   "outputs": [
    {
     "data": {
      "image/png": "[encoded data removed]",
      "text/plain": [
       "<matplotlib.figure.Figure at 0xb675048>"
      ]
     },
     "metadata": {},
     "output_type": "display_data"
    }
   ],
   "source": [
    "Y = TSNE(n_components=2,perplexity=15.0,early_exaggeration=12.0,learning_rate=100.0,n_iter=2000,n_iter_without_progress=300,\\\n",
    "     min_grad_norm=1e-07,metric='euclidean', init='random', verbose=0, random_state=None,method='barnes_hut', angle=0.5).fit_transform(vectors)\n",
    "plt.scatter(Y[:, 0], Y[:, 1])\n",
    "plt.show()"
   ]
  },
  {
   "cell_type": "code",
   "execution_count": null,
   "metadata": {
    "collapsed": true
   },
   "outputs": [],
   "source": []
  }
 ],
 "metadata": {
  "kernelspec": {
   "display_name": "Python 3",
   "language": "python",
   "name": "python3"
  },
  "language_info": {
   "codemirror_mode": {
    "name": "ipython",
    "version": 3
   },
   "file_extension": ".py",
   "mimetype": "text/x-python",
   "name": "python",
   "nbconvert_exporter": "python",
   "pygments_lexer": "ipython3",
   "version": "3.6.2"
  }
 },
 "nbformat": 4,
 "nbformat_minor": 2
}
